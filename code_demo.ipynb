{
 "cells": [
  {
   "cell_type": "code",
   "execution_count": 1,
   "metadata": {},
   "outputs": [],
   "source": [
    "import torch\n",
    "import torch.nn as nn\n",
    "import torch.optim as optim\n",
    "import torch.nn.functional as F\n",
    "from torch.utils.data import DataLoader, TensorDataset"
   ]
  },
  {
   "cell_type": "code",
   "execution_count": 2,
   "metadata": {},
   "outputs": [],
   "source": [
    "class SimpleModel(nn.Module):\n",
    "    def __init__(self, input_size, hidden_size, output_size):\n",
    "        super(SimpleModel, self).__init__()\n",
    "        self.fc1 = nn.Linear(input_size, hidden_size)\n",
    "        self.fc2 = nn.Linear(hidden_size, output_size)\n",
    "    \n",
    "    def forward(self, x):\n",
    "        x = F.relu(self.fc1(x))\n",
    "        x = self.fc2(x)\n",
    "        return x"
   ]
  },
  {
   "cell_type": "code",
   "execution_count": 3,
   "metadata": {},
   "outputs": [],
   "source": [
    "# Initialize main model (large model M) and proxy models (M- and M+)\n",
    "input_size = 10\n",
    "main_hidden_size = 50\n",
    "proxy_hidden_size = 10\n",
    "output_size = 3\n",
    "alpha = 0.5\n",
    "\n",
    "# Large model\n",
    "main_model = SimpleModel(input_size, main_hidden_size, output_size)\n",
    "\n",
    "# Proxy model (untuned version M-)\n",
    "proxy_model_untuned = SimpleModel(input_size, proxy_hidden_size, output_size)\n",
    "\n",
    "# Proxy model (tuned version M+)\n",
    "proxy_model_tuned = SimpleModel(input_size, proxy_hidden_size, output_size)\n",
    "\n",
    "# Create a small random dataset for training\n",
    "data = torch.randn(100, input_size)  \n",
    "labels = torch.randint(0, output_size, (100,)) "
   ]
  },
  {
   "cell_type": "code",
   "execution_count": 4,
   "metadata": {},
   "outputs": [],
   "source": [
    "# Create DataLoader\n",
    "dataset = TensorDataset(data, labels)\n",
    "train_loader = DataLoader(dataset, batch_size=10, shuffle=True)"
   ]
  },
  {
   "cell_type": "code",
   "execution_count": 5,
   "metadata": {},
   "outputs": [],
   "source": [
    "# Define loss and optimizer for training proxy_model_tuned\n",
    "criterion = nn.CrossEntropyLoss()\n",
    "optimizer = optim.Adam(proxy_model_tuned.parameters(), lr=0.01)"
   ]
  },
  {
   "cell_type": "code",
   "execution_count": 6,
   "metadata": {},
   "outputs": [
    {
     "name": "stdout",
     "output_type": "stream",
     "text": [
      "Training proxy_model_tuned...\n",
      "Training complete for proxy_model_tuned.\n",
      "\n"
     ]
    }
   ],
   "source": [
    "# Train proxy_model_tuned for a few epochs\n",
    "print(\"Training proxy_model_tuned...\")\n",
    "for epoch in range(5):\n",
    "    for inputs, target_labels in train_loader:\n",
    "        optimizer.zero_grad()\n",
    "        output = proxy_model_tuned(inputs)\n",
    "        loss = criterion(output, target_labels)\n",
    "        loss.backward()\n",
    "        optimizer.step()\n",
    "print(\"Training complete for proxy_model_tuned.\\n\")\n"
   ]
  },
  {
   "cell_type": "code",
   "execution_count": 7,
   "metadata": {},
   "outputs": [],
   "source": [
    "# Testing proxy tuning on a new input\n",
    "input_data = torch.randn((1, input_size)) "
   ]
  },
  {
   "cell_type": "code",
   "execution_count": 8,
   "metadata": {},
   "outputs": [],
   "source": [
    "# Forward pass through each model to get logits\n",
    "logits_main = main_model(input_data)\n",
    "logits_proxy_untuned = proxy_model_untuned(input_data)\n",
    "logits_proxy_tuned = proxy_model_tuned(input_data)\n",
    "\n",
    "# Define scaling factor alpha\n",
    "alpha = 0.5\n",
    "\n",
    "# Apply proxy tuning: adjust main model's logits using the difference between proxy logits\n",
    "adjusted_logits = logits_main + alpha * (logits_proxy_tuned - logits_proxy_untuned)\n",
    "\n",
    "#Convert original logits to probabilites\n",
    "original_probs = F.softmax(logits_main, dim=1)\n",
    "\n",
    "# Convert adjusted logits to probabilities\n",
    "adjusted_probs = F.softmax(adjusted_logits, dim=1)"
   ]
  },
  {
   "cell_type": "code",
   "execution_count": 9,
   "metadata": {},
   "outputs": [
    {
     "name": "stdout",
     "output_type": "stream",
     "text": [
      "Adjusted probabilities: tensor([[0.2641, 0.3728, 0.3632]], grad_fn=<SoftmaxBackward0>)\n",
      "Original probabilities: tensor([[0.2450, 0.3441, 0.4109]], grad_fn=<SoftmaxBackward0>)\n"
     ]
    }
   ],
   "source": [
    "print(\"Adjusted probabilities:\", adjusted_probs)\n",
    "print(\"Original probabilities:\", original_probs)"
   ]
  },
  {
   "cell_type": "code",
   "execution_count": null,
   "metadata": {},
   "outputs": [],
   "source": []
  }
 ],
 "metadata": {
  "kernelspec": {
   "display_name": "Python 3",
   "language": "python",
   "name": "python3"
  },
  "language_info": {
   "codemirror_mode": {
    "name": "ipython",
    "version": 3
   },
   "file_extension": ".py",
   "mimetype": "text/x-python",
   "name": "python",
   "nbconvert_exporter": "python",
   "pygments_lexer": "ipython3",
   "version": "3.9.6"
  }
 },
 "nbformat": 4,
 "nbformat_minor": 2
}
